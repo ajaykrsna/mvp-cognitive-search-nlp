{
 "metadata": {
  "language_info": {
   "codemirror_mode": {
    "name": "ipython",
    "version": 3
   },
   "file_extension": ".py",
   "mimetype": "text/x-python",
   "name": "python",
   "nbconvert_exporter": "python",
   "pygments_lexer": "ipython3",
   "version": "3.7.7-final"
  },
  "orig_nbformat": 2,
  "kernelspec": {
   "name": "python3",
   "display_name": "Python 3",
   "language": "python"
  }
 },
 "nbformat": 4,
 "nbformat_minor": 2,
 "cells": [
  {
   "source": [
    "# MVP Cognitive Search Application: Summary "
   ],
   "cell_type": "markdown",
   "metadata": {}
  },
  {
   "cell_type": "code",
   "execution_count": 27,
   "metadata": {},
   "outputs": [],
   "source": [
    "text = \"\"\"\n",
    "09_080661e-00 June 2016 \n",
    "Page 2 of 3\n",
    "Golpanol@ ALS\n",
    "\n",
    "Chemical nature\n",
    "Sodium allyl sulfonate\n",
    "\n",
    "PRD-No.\n",
    "30042690\n",
    "BASF's commercial product numbers\n",
    "\n",
    "Structural formula\n",
    "H,C=CH-CH,-$0,Na\n",
    "\n",
    "Molecular formula\n",
    "H5O,NaS\n",
    "\n",
    "Molar mass (DIN 32625)\n",
    "144 g/mol\n",
    "\n",
    "Appearance\n",
    "Golpanol9 ALS is a clear, colorless or yellowish liquid\n",
    "\n",
    "Shelf life\n",
    "Golpanol9 ALS has a shelf life of 2 years in sealed containers.\n",
    "\n",
    "Properties\n",
    "Some physical properties are listed in the table below. These are typical values\n",
    "only and not all of them are monitored on a regular basis. They are correct at the\n",
    "time of publication and do not necessarily form part of the product specification.\n",
    "A detailed product specification is available on request or via BASF's WorldAccount:\n",
    "https:/lworldaccount basf com registered access).\n",
    "\n",
    "Golpanol9 ALS\n",
    "Unit\n",
    "Value\n",
    "\n",
    "Physical form\n",
    "liquid\n",
    "\n",
    "Concentration\n",
    "24.5- 25.5\n",
    "(BASF method, bromide bromate titration)\n",
    "\n",
    "Sulphite content\n",
    "<0.05\n",
    "(BASF method, iodometric)\n",
    "\n",
    "APHA color\n",
    "20\n",
    "(DIN EN1557)\n",
    "\n",
    "Density\n",
    "glcm3\n",
    "1.19-1.23\n",
    "(DIN/ 51757, A$TMD 1298, 23 9C)\n",
    "\n",
    "pH value\n",
    "10.5-11.5\n",
    "(|$0 976, 23 9C)\n",
    "\n",
    "Solubility\n",
    "Golpanol9 ALS is miscible with water in all proportions.\n",
    "\"\"\""
   ]
  },
  {
   "cell_type": "code",
   "execution_count": 28,
   "metadata": {},
   "outputs": [],
   "source": [
    "import spacy\n",
    "from spacy.lang.en.stop_words import STOP_WORDS\n",
    "from string import punctuation"
   ]
  },
  {
   "cell_type": "code",
   "execution_count": 29,
   "metadata": {},
   "outputs": [],
   "source": [
    "stopwords = list(STOP_WORDS)"
   ]
  },
  {
   "cell_type": "code",
   "execution_count": 30,
   "metadata": {},
   "outputs": [],
   "source": [
    "nlp = spacy.load('en_core_web_sm')"
   ]
  },
  {
   "cell_type": "code",
   "execution_count": 31,
   "metadata": {},
   "outputs": [],
   "source": [
    "doc = nlp(text)"
   ]
  },
  {
   "cell_type": "code",
   "execution_count": 32,
   "metadata": {},
   "outputs": [
    {
     "output_type": "stream",
     "name": "stdout",
     "text": [
      "['\\n', '09_080661e-00', 'June', '2016', '\\n', 'Page', '2', 'of', '3', '\\n', 'Golpanol@', 'ALS', '\\n\\n', 'Chemical', 'nature', '\\n', 'Sodium', 'allyl', 'sulfonate', '\\n\\n', 'PRD', '-', 'No', '.', '\\n', '30042690', '\\n', 'BASF', \"'s\", 'commercial', 'product', 'numbers', '\\n\\n', 'Structural', 'formula', '\\n', 'H', ',', 'C', '=', 'CH', '-', 'CH,-$0,Na', '\\n\\n', 'Molecular', 'formula', '\\n', 'H5O', ',', 'NaS', '\\n\\n', 'Molar', 'mass', '(', 'DIN', '32625', ')', '\\n', '144', 'g', '/', 'mol', '\\n\\n', 'Appearance', '\\n', 'Golpanol9', 'ALS', 'is', 'a', 'clear', ',', 'colorless', 'or', 'yellowish', 'liquid', '\\n\\n', 'Shelf', 'life', '\\n', 'Golpanol9', 'ALS', 'has', 'a', 'shelf', 'life', 'of', '2', 'years', 'in', 'sealed', 'containers', '.', '\\n\\n', 'Properties', '\\n', 'Some', 'physical', 'properties', 'are', 'listed', 'in', 'the', 'table', 'below', '.', 'These', 'are', 'typical', 'values', '\\n', 'only', 'and', 'not', 'all', 'of', 'them', 'are', 'monitored', 'on', 'a', 'regular', 'basis', '.', 'They', 'are', 'correct', 'at', 'the', '\\n', 'time', 'of', 'publication', 'and', 'do', 'not', 'necessarily', 'form', 'part', 'of', 'the', 'product', 'specification', '.', '\\n', 'A', 'detailed', 'product', 'specification', 'is', 'available', 'on', 'request', 'or', 'via', 'BASF', \"'s\", 'WorldAccount', ':', '\\n', 'https:/lworldaccount', 'basf', 'com', 'registered', 'access', ')', '.', '\\n\\n', 'Golpanol9', 'ALS', '\\n', 'Unit', '\\n', 'Value', '\\n\\n', 'Physical', 'form', '\\n', 'liquid', '\\n\\n', 'Concentration', '\\n', '24.5-', '25.5', '\\n', '(', 'BASF', 'method', ',', 'bromide', 'bromate', 'titration', ')', '\\n\\n', 'Sulphite', 'content', '\\n', '<', '0.05', '\\n', '(', 'BASF', 'method', ',', 'iodometric', ')', '\\n\\n', 'APHA', 'color', '\\n', '20', '\\n', '(', 'DIN', 'EN1557', ')', '\\n\\n', 'Density', '\\n', 'glcm3', '\\n', '1.19', '-', '1.23', '\\n', '(', 'DIN/', '51757', ',', 'A$', 'TMD', '1298', ',', '23', '9C', ')', '\\n\\n', 'pH', 'value', '\\n', '10.5', '-', '11.5', '\\n', '(', '|$0', '976', ',', '23', '9C', ')', '\\n\\n', 'Solubility', '\\n', 'Golpanol9', 'ALS', 'is', 'miscible', 'with', 'water', 'in', 'all', 'proportions', '.', '\\n']\n"
     ]
    }
   ],
   "source": [
    "tokens = [token.text for token in doc]\n",
    "print(tokens)"
   ]
  },
  {
   "cell_type": "code",
   "execution_count": 33,
   "metadata": {},
   "outputs": [
    {
     "output_type": "execute_result",
     "data": {
      "text/plain": [
       "'!\"#$%&\\'()*+,-./:;<=>?@[\\\\]^_`{|}~\\n'"
      ]
     },
     "metadata": {},
     "execution_count": 33
    }
   ],
   "source": [
    "punctuation = punctuation + '\\n'\n",
    "punctuation"
   ]
  },
  {
   "cell_type": "code",
   "execution_count": 34,
   "metadata": {},
   "outputs": [
    {
     "output_type": "stream",
     "name": "stdout",
     "text": [
      "{'09_080661e-00': 1, 'June': 1, '2016': 1, 'Page': 1, '2': 2, '3': 1, 'Golpanol@': 1, 'ALS': 5, '\\n\\n': 16, 'Chemical': 1, 'nature': 1, 'Sodium': 1, 'allyl': 1, 'sulfonate': 1, 'PRD': 1, '30042690': 1, 'BASF': 4, 'commercial': 1, 'product': 3, 'numbers': 1, 'Structural': 1, 'formula': 2, 'H': 1, 'C': 1, 'CH': 1, 'CH,-$0,Na': 1, 'Molecular': 1, 'H5O': 1, 'NaS': 1, 'Molar': 1, 'mass': 1, 'DIN': 2, '32625': 1, '144': 1, 'g': 1, 'mol': 1, 'Appearance': 1, 'Golpanol9': 4, 'clear': 1, 'colorless': 1, 'yellowish': 1, 'liquid': 2, 'Shelf': 1, 'life': 2, 'shelf': 1, 'years': 1, 'sealed': 1, 'containers': 1, 'Properties': 1, 'physical': 1, 'properties': 1, 'listed': 1, 'table': 1, 'typical': 1, 'values': 1, 'monitored': 1, 'regular': 1, 'basis': 1, 'correct': 1, 'time': 1, 'publication': 1, 'necessarily': 1, 'form': 2, 'specification': 2, 'detailed': 1, 'available': 1, 'request': 1, 'WorldAccount': 1, 'https:/lworldaccount': 1, 'basf': 1, 'com': 1, 'registered': 1, 'access': 1, 'Unit': 1, 'Value': 1, 'Physical': 1, 'Concentration': 1, '24.5-': 1, '25.5': 1, 'method': 2, 'bromide': 1, 'bromate': 1, 'titration': 1, 'Sulphite': 1, 'content': 1, '0.05': 1, 'iodometric': 1, 'APHA': 1, 'color': 1, '20': 1, 'EN1557': 1, 'Density': 1, 'glcm3': 1, '1.19': 1, '1.23': 1, 'DIN/': 1, '51757': 1, 'A$': 1, 'TMD': 1, '1298': 1, '23': 2, '9C': 2, 'pH': 1, 'value': 1, '10.5': 1, '11.5': 1, '|$0': 1, '976': 1, 'Solubility': 1, 'miscible': 1, 'water': 1, 'proportions': 1}\n"
     ]
    }
   ],
   "source": [
    "word_frequencies = {}\n",
    "for word in doc:\n",
    "    if word.text.lower() not in stopwords:\n",
    "        if word.text.lower() not in punctuation:\n",
    "            if word.text not in word_frequencies.keys():\n",
    "                word_frequencies[word.text] = 1\n",
    "            else:\n",
    "                word_frequencies[word.text] += 1\n",
    "                \n",
    "print(word_frequencies)"
   ]
  },
  {
   "cell_type": "code",
   "execution_count": 35,
   "metadata": {},
   "outputs": [
    {
     "output_type": "execute_result",
     "data": {
      "text/plain": [
       "16"
      ]
     },
     "metadata": {},
     "execution_count": 35
    }
   ],
   "source": [
    "max_frequency = max(word_frequencies.values())\n",
    "max_frequency"
   ]
  },
  {
   "cell_type": "code",
   "execution_count": 36,
   "metadata": {},
   "outputs": [
    {
     "output_type": "stream",
     "name": "stdout",
     "text": [
      "{'09_080661e-00': 0.0625, 'June': 0.0625, '2016': 0.0625, 'Page': 0.0625, '2': 0.125, '3': 0.0625, 'Golpanol@': 0.0625, 'ALS': 0.3125, '\\n\\n': 1.0, 'Chemical': 0.0625, 'nature': 0.0625, 'Sodium': 0.0625, 'allyl': 0.0625, 'sulfonate': 0.0625, 'PRD': 0.0625, '30042690': 0.0625, 'BASF': 0.25, 'commercial': 0.0625, 'product': 0.1875, 'numbers': 0.0625, 'Structural': 0.0625, 'formula': 0.125, 'H': 0.0625, 'C': 0.0625, 'CH': 0.0625, 'CH,-$0,Na': 0.0625, 'Molecular': 0.0625, 'H5O': 0.0625, 'NaS': 0.0625, 'Molar': 0.0625, 'mass': 0.0625, 'DIN': 0.125, '32625': 0.0625, '144': 0.0625, 'g': 0.0625, 'mol': 0.0625, 'Appearance': 0.0625, 'Golpanol9': 0.25, 'clear': 0.0625, 'colorless': 0.0625, 'yellowish': 0.0625, 'liquid': 0.125, 'Shelf': 0.0625, 'life': 0.125, 'shelf': 0.0625, 'years': 0.0625, 'sealed': 0.0625, 'containers': 0.0625, 'Properties': 0.0625, 'physical': 0.0625, 'properties': 0.0625, 'listed': 0.0625, 'table': 0.0625, 'typical': 0.0625, 'values': 0.0625, 'monitored': 0.0625, 'regular': 0.0625, 'basis': 0.0625, 'correct': 0.0625, 'time': 0.0625, 'publication': 0.0625, 'necessarily': 0.0625, 'form': 0.125, 'specification': 0.125, 'detailed': 0.0625, 'available': 0.0625, 'request': 0.0625, 'WorldAccount': 0.0625, 'https:/lworldaccount': 0.0625, 'basf': 0.0625, 'com': 0.0625, 'registered': 0.0625, 'access': 0.0625, 'Unit': 0.0625, 'Value': 0.0625, 'Physical': 0.0625, 'Concentration': 0.0625, '24.5-': 0.0625, '25.5': 0.0625, 'method': 0.125, 'bromide': 0.0625, 'bromate': 0.0625, 'titration': 0.0625, 'Sulphite': 0.0625, 'content': 0.0625, '0.05': 0.0625, 'iodometric': 0.0625, 'APHA': 0.0625, 'color': 0.0625, '20': 0.0625, 'EN1557': 0.0625, 'Density': 0.0625, 'glcm3': 0.0625, '1.19': 0.0625, '1.23': 0.0625, 'DIN/': 0.0625, '51757': 0.0625, 'A$': 0.0625, 'TMD': 0.0625, '1298': 0.0625, '23': 0.125, '9C': 0.125, 'pH': 0.0625, 'value': 0.0625, '10.5': 0.0625, '11.5': 0.0625, '|$0': 0.0625, '976': 0.0625, 'Solubility': 0.0625, 'miscible': 0.0625, 'water': 0.0625, 'proportions': 0.0625}\n"
     ]
    }
   ],
   "source": [
    "for word in word_frequencies.keys():\n",
    "    word_frequencies[word] = word_frequencies[word]/max_frequency\n",
    "\n",
    "print(word_frequencies)"
   ]
  },
  {
   "cell_type": "code",
   "execution_count": 37,
   "metadata": {},
   "outputs": [
    {
     "output_type": "stream",
     "name": "stdout",
     "text": [
      "[\n09_080661e-00 June 2016 \n, Page 2 of 3\nGolpanol@ ALS\n\nChemical nature\n, Sodium allyl sulfonate\n\nPRD-, No.\n, 30042690\n, BASF's commercial product numbers\n\nStructural formula\n, H,C=CH-CH,-$0,Na\n\nMolecular formula\n, H5O,NaS\n\nMolar mass (DIN 32625)\n, 144 g/mol\n\nAppearance\nGolpanol9 ALS is a clear, colorless or yellowish liquid\n\nShelf life\n, Golpanol9 ALS has a shelf life of 2 years in sealed containers., \n\n, Properties\n, Some physical properties are listed in the table below., These are typical values\nonly and not all of them are monitored on a regular basis., They are correct at the\ntime of publication and do not necessarily form part of the product specification., \n, A detailed product specification is available on request or via BASF's WorldAccount:\nhttps:/lworldaccount basf com registered access)., \n\nGolpanol9, ALS\n, Unit\nValue\n\nPhysical form\nliquid\n\nConcentration\n24.5- 25.5\n, (BASF method, bromide bromate titration)\n\nSulphite content\n<0.05\n, (BASF method, iodometric)\n\nAPHA color\n20\n(DIN EN1557), \n\nDensity\nglcm3\n1.19-1.23\n(DIN/ 51757, A$TMD 1298, 23 9C), \n\npH value\n10.5-11.5\n(|$0 976, 23 9C), \n\n, Solubility\nGolpanol9, ALS is miscible with water in all proportions.\n]\n"
     ]
    }
   ],
   "source": [
    "sentence_tokens = [sent for sent in doc.sents]\n",
    "print(sentence_tokens)"
   ]
  },
  {
   "cell_type": "code",
   "execution_count": 38,
   "metadata": {},
   "outputs": [
    {
     "output_type": "execute_result",
     "data": {
      "text/plain": [
       "{\n",
       " 09_080661e-00 June 2016 : 0.125,\n",
       " Page 2 of 3\n",
       " Golpanol@ ALS\n",
       " \n",
       " Chemical nature: 1.25,\n",
       " Sodium allyl sulfonate\n",
       " \n",
       " PRD-: 1.125,\n",
       " 30042690: 0.0625,\n",
       " BASF's commercial product numbers\n",
       " \n",
       " Structural formula: 1.5,\n",
       " H,C=CH-CH,-$0,Na\n",
       " \n",
       " Molecular formula: 1.125,\n",
       " H5O,NaS\n",
       " \n",
       " Molar mass (DIN 32625): 1.125,\n",
       " 144 g/mol\n",
       " \n",
       " Appearance\n",
       " Golpanol9 ALS is a clear, colorless or yellowish liquid\n",
       " \n",
       " Shelf life: 2.6875,\n",
       " Golpanol9 ALS has a shelf life of 2 years in sealed containers.: 0.5,\n",
       " \n",
       " : 1.0,\n",
       " Properties: 0.0625,\n",
       " Some physical properties are listed in the table below.: 0.25,\n",
       " These are typical values\n",
       " only and not all of them are monitored on a regular basis.: 0.3125,\n",
       " They are correct at the\n",
       " time of publication and do not necessarily form part of the product specification.: 0.6875,\n",
       " A detailed product specification is available on request or via BASF's WorldAccount:\n",
       " https:/lworldaccount basf com registered access).: 0.875,\n",
       " \n",
       " \n",
       " Golpanol9: 1.0,\n",
       " Unit\n",
       " Value\n",
       " \n",
       " Physical form\n",
       " liquid\n",
       " \n",
       " Concentration\n",
       " 24.5- 25.5: 2.5,\n",
       " (BASF method, bromide bromate titration)\n",
       " \n",
       " Sulphite content\n",
       " <0.05: 1.5,\n",
       " (BASF method, iodometric)\n",
       " \n",
       " APHA color\n",
       " 20\n",
       " (DIN EN1557): 1.375,\n",
       " \n",
       " \n",
       " Density\n",
       " glcm3\n",
       " 1.19-1.23\n",
       " (DIN/ 51757, A$TMD 1298, 23 9C): 1.4375,\n",
       " \n",
       " \n",
       " pH value\n",
       " 10.5-11.5\n",
       " (|$0 976, 23 9C): 1.4375,\n",
       " \n",
       " : 1.0,\n",
       " ALS is miscible with water in all proportions.: 0.1875}"
      ]
     },
     "metadata": {},
     "execution_count": 38
    }
   ],
   "source": [
    "sentence_scores = {}\n",
    "for sent in sentence_tokens:\n",
    "    for word in sent:\n",
    "        if word.text.lower() in word_frequencies.keys():\n",
    "            if sent not in sentence_scores.keys():\n",
    "                sentence_scores[sent] = word_frequencies[word.text.lower()]\n",
    "            else:\n",
    "                sentence_scores[sent] += word_frequencies[word.text.lower()]\n",
    "                \n",
    "sentence_scores"
   ]
  },
  {
   "cell_type": "code",
   "execution_count": 39,
   "metadata": {},
   "outputs": [],
   "source": [
    "from heapq import nlargest"
   ]
  },
  {
   "cell_type": "code",
   "execution_count": 40,
   "metadata": {},
   "outputs": [
    {
     "output_type": "execute_result",
     "data": {
      "text/plain": [
       "8"
      ]
     },
     "metadata": {},
     "execution_count": 40
    }
   ],
   "source": [
    "select_length = int(len(sentence_tokens)*0.3)\n",
    "select_length"
   ]
  },
  {
   "cell_type": "code",
   "execution_count": 41,
   "metadata": {},
   "outputs": [
    {
     "output_type": "execute_result",
     "data": {
      "text/plain": [
       "[144 g/mol\n",
       " \n",
       " Appearance\n",
       " Golpanol9 ALS is a clear, colorless or yellowish liquid\n",
       " \n",
       " Shelf life,\n",
       " Unit\n",
       " Value\n",
       " \n",
       " Physical form\n",
       " liquid\n",
       " \n",
       " Concentration\n",
       " 24.5- 25.5,\n",
       " BASF's commercial product numbers\n",
       " \n",
       " Structural formula,\n",
       " (BASF method, bromide bromate titration)\n",
       " \n",
       " Sulphite content\n",
       " <0.05,\n",
       " \n",
       " \n",
       " Density\n",
       " glcm3\n",
       " 1.19-1.23\n",
       " (DIN/ 51757, A$TMD 1298, 23 9C),\n",
       " \n",
       " \n",
       " pH value\n",
       " 10.5-11.5\n",
       " (|$0 976, 23 9C),\n",
       " (BASF method, iodometric)\n",
       " \n",
       " APHA color\n",
       " 20\n",
       " (DIN EN1557),\n",
       " Page 2 of 3\n",
       " Golpanol@ ALS\n",
       " \n",
       " Chemical nature]"
      ]
     },
     "metadata": {},
     "execution_count": 41
    }
   ],
   "source": [
    "summary = nlargest(select_length, sentence_scores, key = sentence_scores.get)\n",
    "summary"
   ]
  },
  {
   "cell_type": "code",
   "execution_count": 42,
   "metadata": {},
   "outputs": [],
   "source": [
    "final_summary = [word.text for word in summary]\n",
    "summary = ' '.join(final_summary)"
   ]
  },
  {
   "cell_type": "code",
   "execution_count": 43,
   "metadata": {},
   "outputs": [
    {
     "output_type": "stream",
     "name": "stdout",
     "text": [
      "\n09_080661e-00 June 2016 \nPage 2 of 3\nGolpanol@ ALS\n\nChemical nature\nSodium allyl sulfonate\n\nPRD-No.\n30042690\nBASF's commercial product numbers\n\nStructural formula\nH,C=CH-CH,-$0,Na\n\nMolecular formula\nH5O,NaS\n\nMolar mass (DIN 32625)\n144 g/mol\n\nAppearance\nGolpanol9 ALS is a clear, colorless or yellowish liquid\n\nShelf life\nGolpanol9 ALS has a shelf life of 2 years in sealed containers.\n\nProperties\nSome physical properties are listed in the table below. These are typical values\nonly and not all of them are monitored on a regular basis. They are correct at the\ntime of publication and do not necessarily form part of the product specification.\nA detailed product specification is available on request or via BASF's WorldAccount:\nhttps:/lworldaccount basf com registered access).\n\nGolpanol9 ALS\nUnit\nValue\n\nPhysical form\nliquid\n\nConcentration\n24.5- 25.5\n(BASF method, bromide bromate titration)\n\nSulphite content\n<0.05\n(BASF method, iodometric)\n\nAPHA color\n20\n(DIN EN1557)\n\nDensity\nglcm3\n1.19-1.23\n(DIN/ 51757, A$TMD 1298, 23 9C)\n\npH value\n10.5-11.5\n(|$0 976, 23 9C)\n\nSolubility\nGolpanol9 ALS is miscible with water in all proportions.\n\n"
     ]
    }
   ],
   "source": [
    "print(text)"
   ]
  },
  {
   "cell_type": "code",
   "execution_count": 44,
   "metadata": {},
   "outputs": [
    {
     "output_type": "stream",
     "name": "stdout",
     "text": [
      "144 g/mol\n\nAppearance\nGolpanol9 ALS is a clear, colorless or yellowish liquid\n\nShelf life\n Unit\nValue\n\nPhysical form\nliquid\n\nConcentration\n24.5- 25.5\n BASF's commercial product numbers\n\nStructural formula\n (BASF method, bromide bromate titration)\n\nSulphite content\n<0.05\n \n\nDensity\nglcm3\n1.19-1.23\n(DIN/ 51757, A$TMD 1298, 23 9C) \n\npH value\n10.5-11.5\n(|$0 976, 23 9C) (BASF method, iodometric)\n\nAPHA color\n20\n(DIN EN1557) Page 2 of 3\nGolpanol@ ALS\n\nChemical nature\n\n"
     ]
    }
   ],
   "source": [
    "print(summary)"
   ]
  }
 ]
}